{
 "cells": [
  {
   "cell_type": "code",
   "execution_count": 4,
   "metadata": {},
   "outputs": [
    {
     "name": "stdout",
     "output_type": "stream",
     "text": [
      "-196193.33333333334\n",
      "-13158.666666666666\n",
      "-196193.33333333328\n",
      "-13158.666666666668\n",
      "DEBUG xi1, xi2 -1.0 1.0\n",
      "-196193.33333333328\n",
      "DEBUG xi1, xi2 -0.19999999999999996 0.19999999999999996\n",
      "-13158.666666666664\n"
     ]
    }
   ],
   "source": [
    "import numpy as np\n",
    "from panels.legendre_gauss_quadrature import get_points_weights\n",
    "\n",
    "n = 3\n",
    "pts = np.zeros(n, dtype=float)\n",
    "ws = np.zeros(n, dtype=float)\n",
    "get_points_weights(n, pts, ws)\n",
    "\n",
    "def func(x):\n",
    "    return 4 + 2*x - 4*x**2 + 2*x**3 - 10*x**4\n",
    "\n",
    "def funcxi(xi, xinf, xsup):\n",
    "    x = (xi + 1)*(xsup - xinf)/2 + xinf\n",
    "    return 4 + 2*x - 4*x**2 + 2*x**3 - 10*x**4\n",
    "\n",
    "def intref(x1, x2):\n",
    "    res1 = 4*x1 + 2*x1**2/2 - 4*x1**3/3 + 2*x1**4/4 - 10*x1**5/5\n",
    "    res2 = 4*x2 + 2*x2**2/2 - 4*x2**3/3 + 2*x2**4/4 - 10*x2**5/5\n",
    "    return res2 - res1\n",
    "\n",
    "def intquad(x1, x2):\n",
    "    ans = 0\n",
    "    for xi, w in zip(pts, ws):\n",
    "        x = (xi + 1)*(x2-x1)/2 + x1\n",
    "        #dx = (x2-x1)/2*(dxi)\n",
    "        ans += w * func(x) * ((x2-x1)/2)\n",
    "    return ans\n",
    "\n",
    "def intquadxi(x1, x2, xinf, xsup):\n",
    "    xi1 = (x1 - xinf)/(xsup - xinf)*2 - 1\n",
    "    xi2 = (x2 - xinf)/(xsup - xinf)*2 - 1\n",
    "    print('DEBUG xi1, xi2', xi1, xi2)\n",
    "    ans = 0\n",
    "    for xi, w in zip(pts, ws):\n",
    "        xip = (xi - (-1))/2 * (xi2 - xi1) + xi1\n",
    "        ans += w * funcxi(xip, xinf, xsup) * (x2 - x1)/2\n",
    "    return ans\n",
    "\n",
    "print(intref(0, 10))\n",
    "print(intref(4, 6))\n",
    "\n",
    "print(intquad(0, 10))\n",
    "print(intquad(4, 6))\n",
    "\n",
    "xinf = 0\n",
    "xsup = 10\n",
    "print(intquadxi(0, 10, xinf, xsup))\n",
    "print(intquadxi(4, 6, xinf, xsup))"
   ]
  }
 ],
 "metadata": {
  "kernelspec": {
   "display_name": "Python 3",
   "language": "python",
   "name": "python3"
  },
  "language_info": {
   "codemirror_mode": {
    "name": "ipython",
    "version": 3
   },
   "file_extension": ".py",
   "mimetype": "text/x-python",
   "name": "python",
   "nbconvert_exporter": "python",
   "pygments_lexer": "ipython3",
   "version": "3.6.3"
  }
 },
 "nbformat": 4,
 "nbformat_minor": 2
}
