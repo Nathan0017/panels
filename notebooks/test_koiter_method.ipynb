{
 "cells": [
  {
   "cell_type": "code",
   "execution_count": 10,
   "metadata": {},
   "outputs": [
    {
     "name": "stdout",
     "output_type": "stream",
     "text": [
      "Running linear buckling analysis...\n",
      "\t\tEigenvalue solver... \n",
      "\t\tCalculating kG... \n",
      "\t\tfinished!\n",
      "\t\tCalculating kC... \n",
      "\t\tfinished!\n",
      "\t\t\teigsh() solver...\n",
      "\t\t\t\tWARNING: Factor is exactly singular\n",
      "\t\t\taborted!\n",
      "\t\t\tRemoving null columns...\n",
      "\t\t\t\t32 columns removed\n",
      "\t\t\tfinished!\n",
      "\t\t\teigsh() solver...\n",
      "\t\t\tfinished!\n",
      "\t\tfinished!\n",
      "\tfirst 5 eigenvalues:\n",
      "\t\t414.07055840998134\n",
      "\t\t1295.0289640605674\n",
      "\t\t1448.294051398921\n",
      "\t\t1666.1987104962916\n",
      "\t\t4352.146264015863\n",
      "Plotting contour...\n",
      "\tComputing field variables...\n",
      "\tFinished!\n",
      "finished!\n",
      "First Koiter computations...\n",
      "Computing phi2Matrix...\n",
      "Plotting contour...\n",
      "\tComputing field variables...\n",
      "\tFinished!\n",
      "finished!\n",
      "Second Koiter computations...\n",
      "lambda2 244.32849616393344 108\n"
     ]
    }
   ],
   "source": [
    "import sys\n",
    "sys.path.append(r'c:\\repositories\\panels')\n",
    "\n",
    "import numpy as np\n",
    "\n",
    "from panels import Shell\n",
    "from panels.models.cylshell_clpt_donnell_bardell_koiter import (\n",
    "    fkoiter, fphi2Matrix)\n",
    "\n",
    "s = Shell()\n",
    "s.stack = [0, 90, 90, 0]\n",
    "s.plyt = 0.1/4\n",
    "s.laminaprop = (4.2e7, 2.1e6, 0.25, 1.26e6, 1.26e6, 1.26e6)\n",
    "s.model = 'cylshell_clpt_donnell_bardell'\n",
    "s.a = 10\n",
    "s.b = 10\n",
    "s.r = 1.e15\n",
    "s.out_num_cores = 8\n",
    "\n",
    "s.m = 6\n",
    "s.n = 6\n",
    "s.nx = s.m\n",
    "s.ny = s.n\n",
    "\n",
    "NxxHAT = 1\n",
    "NLgeom = True\n",
    "\n",
    "s.w1rx = 1\n",
    "s.w2rx = 1\n",
    "s.w1ry = 1\n",
    "s.w2ry = 1\n",
    "\n",
    "s.u1tx = 1\n",
    "s.u1ty = 1\n",
    "s.u2ty = 1\n",
    "\n",
    "s.u1rx = 1\n",
    "s.u2rx = 1\n",
    "s.u1ry = 1\n",
    "s.u2ry = 1\n",
    "\n",
    "s.v1tx = 1\n",
    "s.v2tx = 0\n",
    "s.v1ty = 1\n",
    "s.v2ty = 1\n",
    "s.v1rx = 1\n",
    "s.v2rx = 1\n",
    "s.v1ry = 1\n",
    "s.v2ry = 1\n",
    "\n",
    "s.add_distr_load_fixed_x(0, lambda y: NxxHAT, None, None)\n",
    "     \n",
    "c0 = s.static(NLgeom=False, silent=True)[0]\n",
    "\n",
    "eigvals, eigvecs = s.lb(c=c0)\n",
    "LCR = eigvals[0]\n",
    "c1 = eigvecs[:, 0]\n",
    "c1 /= np.linalg.norm(c1)\n",
    "\n",
    "from panels.plot_shell import plot_shell\n",
    "if False:\n",
    "    plot_shell(s, c0, filename='plot_static_u.png',\n",
    "               clean=False, colorbar=True, vec='u')\n",
    "    plot_shell(s, c0, filename='plot_static_v.png',\n",
    "               clean=False, colorbar=True, vec='v')\n",
    "    plot_shell(s, c0, filename='plot_static_exx.png',\n",
    "               clean=False, colorbar=True, vec='exx')\n",
    "    plot_shell(s, c0, filename='plot_static_kxx.png',\n",
    "               clean=False, colorbar=True, vec='kxx')\n",
    "\n",
    "\n",
    "plot_shell(s, c1, filename='plot_c1.png',\n",
    "           clean=False, colorbar=True, vec='w')\n",
    "\n",
    "# first call to compute lambda_1 and c2\n",
    "print('First Koiter computations...')\n",
    "out = fkoiter(LCR=LCR, \n",
    "              c0=c0, cA=c1, cB=c1, cC=c1, cD=c1,\n",
    "              Finput=s.F, shell=s, nx=s.nx, ny=s.ny, NLgeom=NLgeom)\n",
    "\n",
    "print('Computing phi2Matrix...')\n",
    "phi2Matrix = fphi2Matrix(LCR, c0, s.F, s, s.get_size(), 0, 0, s.nx, s.ny, NLgeom)\n",
    "\n",
    "lambda1 = -1/2*out['phi3'] / out['phi2_o']\n",
    "\n",
    "c2bar = c1*phi2Matrix*(-lambda1*out['phi2_o'] - 1/2*out['phi3'])\n",
    "c2 = c2bar - c1*np.dot(c2bar, c1)\n",
    "try:\n",
    "    plot_shell(s, c2, filename='plot_c2.png',\n",
    "               clean=False, colorbar=True, vec='w')\n",
    "except:\n",
    "    pass\n",
    "\n",
    "# second call to compute lambda_2\n",
    "print('Second Koiter computations...')\n",
    "out2 = fkoiter(LCR=LCR,\n",
    "               c0=c0, cA=c1, cB=c2, cC=c1, cD=c1,\n",
    "               Finput=s.F, shell=s, nx=s.nx, ny=s.ny, NLgeom=NLgeom)\n",
    "\n",
    "lambda2 = -(1/6*out['phi4'] + lambda1*out2['phi2_o'] \n",
    "           + 1/2*lambda1**2*out['phi2'] + out2['phi3']) / out['phi2_o']\n",
    "\n",
    "print('lambda2', lambda2, s.get_size())"
   ]
  },
  {
   "cell_type": "code",
   "execution_count": 11,
   "metadata": {},
   "outputs": [
    {
     "data": {
      "text/plain": [
       "{'phi2': 1.571521110645786e-06,\n",
       " 'phi2_o': -0.004814577140274841,\n",
       " 'phi2_oo': 1.46517901706046e-36,\n",
       " 'phi3': 4.938447547365393e-14,\n",
       " 'phi3_o': 3.856583200874581e-18,\n",
       " 'phi4': 7.058030354091619}"
      ]
     },
     "execution_count": 11,
     "metadata": {},
     "output_type": "execute_result"
    }
   ],
   "source": [
    "out"
   ]
  },
  {
   "cell_type": "code",
   "execution_count": 12,
   "metadata": {},
   "outputs": [
    {
     "data": {
      "text/plain": [
       "1.2385910805489643e-14"
      ]
     },
     "execution_count": 12,
     "metadata": {},
     "output_type": "execute_result"
    }
   ],
   "source": [
    "lambda1 / LCR"
   ]
  },
  {
   "cell_type": "code",
   "execution_count": 13,
   "metadata": {},
   "outputs": [
    {
     "data": {
      "text/plain": [
       "0.5900648843572641"
      ]
     },
     "execution_count": 13,
     "metadata": {},
     "output_type": "execute_result"
    }
   ],
   "source": [
    "lambda2 / LCR"
   ]
  },
  {
   "cell_type": "code",
   "execution_count": 14,
   "metadata": {},
   "outputs": [
    {
     "data": {
      "image/png": "[encoded data removed]",
      "text/plain": [
       "<Figure size 432x288 with 1 Axes>"
      ]
     },
     "metadata": {},
     "output_type": "display_data"
    }
   ],
   "source": [
    "import matplotlib.pyplot as plt\n",
    "\n",
    "xis = np.linspace(-1, 1, 100) \n",
    "\n",
    "plt.plot(xis, LCR + xis*lambda1 + xis**2*lambda2)\n",
    "plt.show()"
   ]
  }
 ],
 "metadata": {
  "kernelspec": {
   "display_name": "Python 3",
   "language": "python",
   "name": "python3"
  },
  "language_info": {
   "codemirror_mode": {
    "name": "ipython",
    "version": 3
   },
   "file_extension": ".py",
   "mimetype": "text/x-python",
   "name": "python",
   "nbconvert_exporter": "python",
   "pygments_lexer": "ipython3",
   "version": "3.6.5"
  }
 },
 "nbformat": 4,
 "nbformat_minor": 2
}
