{
 "cells": [
  {
   "cell_type": "code",
   "execution_count": 41,
   "metadata": {},
   "outputs": [
    {
     "name": "stdout",
     "output_type": "stream",
     "text": [
      "[[356.11530159   0.           0.        ]\n",
      " [  0.           0.           0.        ]\n",
      " [  0.           0.           0.        ]]\n",
      "[[356.11530159   0.           0.        ]\n",
      " [  0.           0.           0.        ]\n",
      " [  0.           0.           0.        ]]\n"
     ]
    }
   ],
   "source": [
    "import numpy as np\n",
    "from panels.legendre_gauss_quadrature import get_points_weights\n",
    "\n",
    "n = 6\n",
    "pts = np.zeros(n, dtype=float)\n",
    "ws = np.zeros(n, dtype=float)\n",
    "get_points_weights(n, pts, ws)\n",
    "\n",
    "\n",
    "def matrix(a, xi):\n",
    "    f = lambda xi: 4 + 2*xi - 4*xi**2 + 2*xi**3 - 10*xi**4\n",
    "    fx = lambda xi:    2    - 8*xi    + 6*xi**2 - 40*xi**3\n",
    "    fxx = lambda xi:        - 8      + 12*xi    -120*xi**2\n",
    "    uA = np.array([f(xi), 0, 0])\n",
    "    uAxi = np.array([fx(xi), 0, 0])\n",
    "    uAxixi = np.array([fxx(xi), 0, 0])\n",
    "    BA = np.array([uA,\n",
    "      (2/a)*uAxi,\n",
    "      -(2/a)*(2/a)*2*uAxixi])\n",
    "    return np.dot(np.dot(BA.T, np.ones((3, 3))), BA)\n",
    "\n",
    "\n",
    "def intquad(xinf, xsup, x1, x2):\n",
    "    ans = 0\n",
    "    a = xsup - xinf\n",
    "    xi1 = (x1 - xinf)/(xsup - xinf)*2 - 1\n",
    "    xi2 = (x2 - xinf)/(xsup - xinf)*2 - 1\n",
    "    for xi, w in zip(pts, ws):\n",
    "        #print('DEBUG xi before', xi)\n",
    "        xinew = (xi - (-1))/2 * (xi2 - xi1) + xi1\n",
    "        #print('DEBUG xi after', xinew)\n",
    "        #x = (xi + 1)*(x2 - x1)/2 + x1\n",
    "        #dx = (x2-x1)/2*(dxi)\n",
    "        ans += w * matrix(a, xinew) * ((x2-x1)/2)\n",
    "    return ans\n",
    "\n",
    "xinf = 0\n",
    "xsup = 10\n",
    "print(intquad(0, 10, 0, 10))\n",
    "print(intquad(0, 10, 0, 4) + intquad(0, 10, 4, 6) + intquad(0, 10, 6, 10))\n",
    "\n"
   ]
  }
 ],
 "metadata": {
  "kernelspec": {
   "display_name": "Python 3",
   "language": "python",
   "name": "python3"
  },
  "language_info": {
   "codemirror_mode": {
    "name": "ipython",
    "version": 3
   },
   "file_extension": ".py",
   "mimetype": "text/x-python",
   "name": "python",
   "nbconvert_exporter": "python",
   "pygments_lexer": "ipython3",
   "version": "3.6.3"
  }
 },
 "nbformat": 4,
 "nbformat_minor": 2
}
